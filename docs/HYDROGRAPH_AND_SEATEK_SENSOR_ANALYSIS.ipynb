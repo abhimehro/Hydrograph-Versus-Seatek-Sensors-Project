{
 "cells": [
  {
   "metadata": {},
   "cell_type": "markdown",
   "source": [
    "# Hydrograph and Seatek Sensor Analysis\n",
    "\n",
    "This notebook demonstrates the analysis workflow for river bed monitoring data.\n",
    "\n",
    "## Setup"
   ],
   "id": "13d2111305180528"
  },
  {
   "metadata": {},
   "cell_type": "code",
   "outputs": [],
   "execution_count": null,
   "source": [
    "import pandas as pd\n",
    "import numpy as np\n",
    "import matplotlib.pyplot as plt\n",
    "from src.data_processing import DataProcessor\n",
    "from src.visualization import Visualizer"
   ],
   "id": "ee769fb4666d6849"
  },
  {
   "metadata": {},
   "cell_type": "markdown",
   "source": [
    "\n",
    "## Load and Process Data"
   ],
   "id": "7646dbaea6faa656"
  },
  {
   "metadata": {},
   "cell_type": "code",
   "outputs": [],
   "execution_count": null,
   "source": [
    "def load_and_process_data(file_path, river_mile):\n",
    "    processor = DataProcessor(file_path)\n",
    "    processor.load_data()\n",
    "    return processor.process_river_mile(river_mile)\n",
    "\n",
    "rm_54_data = load_and_process_data(\"data/sensor_readings.xlsx\", 54.0)"
   ],
   "id": "a64752780f1c719f"
  },
  {
   "metadata": {},
   "cell_type": "markdown",
   "source": "## Basic Analysis",
   "id": "10e1d054ddfdf4f0"
  },
  {
   "metadata": {},
   "cell_type": "code",
   "outputs": [],
   "execution_count": null,
   "source": [
    "def calculate_basic_stats(data):\n",
    "    stats = {\n",
    "        'mean_depth': data['Sensor_1'].mean(),\n",
    "        'std_depth': data['Sensor_1'].std(),\n",
    "        'max_change': np.diff(data['Sensor_1']).max()\n",
    "    }\n",
    "    return stats\n",
    "\n",
    "stats = calculate_basic_stats(rm_54_data)\n",
    "print(f\"Mean depth: {stats['mean_depth']:.2f} mm\")\n",
    "print(f\"Depth standard deviation: {stats['std_depth']:.2f} mm\")\n",
    "print(f\"Maximum change rate: {stats['max_change']:.2f} mm/5min\")"
   ],
   "id": "375e76623eec793c"
  },
  {
   "metadata": {},
   "cell_type": "markdown",
   "source": "## Visualizations",
   "id": "129bb93b2b9c4800"
  },
  {
   "metadata": {},
   "cell_type": "code",
   "outputs": [],
   "execution_count": null,
   "source": [
    "def create_time_series_plot(data, river_mile, year, sensor):\n",
    "    viz = Visualizer()\n",
    "    fig, stats = viz.create_visualization(data, river_mile, year, sensor)\n",
    "    threshold = stats['mean'] + 2 * stats['std']\n",
    "    significant_events = data[data[sensor] > threshold]\n",
    "    plt.scatter(significant_events.index, significant_events[sensor], color='red', label='Significant Events')\n",
    "    plt.legend()\n",
    "    plt.savefig(f'output/{sensor}_time_series_plot.png', dpi=300)\n",
    "    return fig, stats\n",
    "\n",
    "fig, stats = create_time_series_plot(rm_54_data, 54.0, 2023, 'Sensor_1')"
   ],
   "id": "437f13db12a2446f"
  },
  {
   "metadata": {},
   "cell_type": "markdown",
   "source": "## Environmental Impact Analysis",
   "id": "36246d7ae4f3bed7"
  },
  {
   "metadata": {},
   "cell_type": "code",
   "outputs": [],
   "execution_count": null,
   "source": [
    "def analyze_bed_stability(data, window='24H'):\n",
    "    rolling_std = data['Sensor_1'].rolling(window).std()\n",
    "    stability_categories = pd.cut(rolling_std, bins=[0, 5, 20, np.inf], labels=['Stable', 'Moderate', 'Active'])\n",
    "    return stability_categories\n",
    "\n",
    "stability = analyze_bed_stability(rm_54_data)\n",
    "print(\"\\nBed Stability Analysis:\")\n",
    "print(stability.value_counts())"
   ],
   "id": "4679e99422a866c3"
  },
  {
   "metadata": {},
   "cell_type": "markdown",
   "source": "## Correlation Analysis",
   "id": "3a700622beddcdad"
  },
  {
   "metadata": {},
   "cell_type": "code",
   "outputs": [],
   "execution_count": null,
   "source": [
    "def plot_sensor_correlation(data, sensor1, sensor2):\n",
    "    correlation = data[sensor1].corr(data[sensor2])\n",
    "    print(f\"\\nSensor Correlation: {correlation:.2f}\")\n",
    "    plt.figure(figsize=(10, 6))\n",
    "    plt.scatter(data[sensor1], data[sensor2], alpha=0.5)\n",
    "    plt.xlabel(f'{sensor1} (mm)')\n",
    "    plt.ylabel(f'{sensor2} (mm)')\n",
    "    plt.title('Sensor Correlation Analysis')\n",
    "    plt.savefig('output/correlation_analysis.png', dpi=300)\n",
    "\n",
    "plot_sensor_correlation(rm_54_data, 'Sensor_1', 'Sensor_2')"
   ],
   "id": "f7566ea08731d457"
  },
  {
   "metadata": {},
   "cell_type": "markdown",
   "source": "## Export Results",
   "id": "238ea82f6c2dfad5"
  },
  {
   "metadata": {},
   "cell_type": "code",
   "outputs": [],
   "execution_count": null,
   "source": [
    "def save_processed_data(data, file_path):\n",
    "    try:\n",
    "        data.to_excel(file_path)\n",
    "    except Exception as e:\n",
    "        print(f\"Error saving data: {e}\")\n",
    "\n",
    "save_processed_data(rm_54_data, 'output/processed_data.xlsx')"
   ],
   "id": "d352afd95b7d6c5d"
  },
  {
   "metadata": {},
   "cell_type": "markdown",
   "source": [
    "This notebook provides a template for analyzing river bed monitoring data, including:\n",
    "\n",
    "    - Data loading and preprocessing\n",
    "    - Basic statistical analysis\n",
    "    - Visualization of time series data\n",
    "    - Environmental stability analysis\n",
    "    - Sensor correlation analysis"
   ],
   "id": "e6e3ba51c088863a"
  }
 ],
 "metadata": {
  "kernelspec": {
   "display_name": "Python 3",
   "language": "python",
   "name": "python3"
  },
  "language_info": {
   "codemirror_mode": {
    "name": "ipython",
    "version": 2
   },
   "file_extension": ".py",
   "mimetype": "text/x-python",
   "name": "python",
   "nbconvert_exporter": "python",
   "pygments_lexer": "ipython2",
   "version": "2.7.6"
  }
 },
 "nbformat": 4,
 "nbformat_minor": 5
}
